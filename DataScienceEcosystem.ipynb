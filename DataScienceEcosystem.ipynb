{
  "metadata": {
    "kernelspec": {
      "name": "python",
      "display_name": "Python (Pyodide)",
      "language": "python"
    },
    "language_info": {
      "codemirror_mode": {
        "name": "python",
        "version": 3
      },
      "file_extension": ".py",
      "mimetype": "text/x-python",
      "name": "python",
      "nbconvert_exporter": "python",
      "pygments_lexer": "ipython3",
      "version": "3.8"
    }
  },
  "nbformat_minor": 5,
  "nbformat": 4,
  "cells": [
    {
      "id": "3fdec864-3265-46d4-b438-7342f67dc571",
      "cell_type": "markdown",
      "source": "# Tools and Ecosystem of Data Science",
      "metadata": {}
    },
    {
      "id": "798514d6-0419-4522-9729-4b12d84c1308",
      "cell_type": "markdown",
      "source": "In this notebook, tools and the ecosystem of data science are summarized.",
      "metadata": {}
    },
    {
      "id": "d13402ec-1d6b-4fdf-ae7a-8a9a85298e4e",
      "cell_type": "markdown",
      "source": "Some of the popular languages that Data Scientists use are:\n1. Python\n2. R\n3. SQL\n4. Julia",
      "metadata": {}
    },
    {
      "id": "b49e5e46-d57d-4abe-900c-e30b5d0063df",
      "cell_type": "markdown",
      "source": "Some of the commonly used libraries by Data Scientists include:\n1. Pandas\n2. NumPy\n3. Matplotlib\n4. Scikit-learn",
      "metadata": {}
    },
    {
      "id": "43db3f3a-7dd6-48a8-837d-f4c4587ddd25",
      "cell_type": "markdown",
      "source": "| Data Science Tools        |\n|---------------------------|\n| Jupyter Notebooks         |\n| RStudio                   |\n| Apache Zeppelin           |",
      "metadata": {}
    },
    {
      "id": "506cb2b2-bfd8-4e63-a766-d18cc0b62eee",
      "cell_type": "markdown",
      "source": "### Below are a few examples of evaluating arithmetic expressions in Python.",
      "metadata": {}
    },
    {
      "id": "486b9c71-0e71-4cfd-ae62-b7138130f1e3",
      "cell_type": "code",
      "source": "# This is a simple arithmetic expression to multiply then add integers\n(3 * 4) + 5",
      "metadata": {
        "trusted": true
      },
      "outputs": [],
      "execution_count": null
    },
    {
      "id": "eefa3d58-2cd1-488b-93d3-1d917e5276c3",
      "cell_type": "code",
      "source": "# This will convert 200 minutes to hours by dividing by 60\n200/60",
      "metadata": {
        "trusted": true
      },
      "outputs": [],
      "execution_count": null
    },
    {
      "id": "7eae07e9-3aaa-453e-9793-a286220a0a2e",
      "cell_type": "markdown",
      "source": "**Objectives:**\n- List popular languages for Data Science\n- Identify commonly used libraries\n- Show examples of Data Science tools\n- Perform arithmetic operations in Python\n- Work with Markdown and Code cells",
      "metadata": {}
    },
    {
      "id": "e620027a-5d76-4910-8571-f3af49a27d4b",
      "cell_type": "markdown",
      "source": "## Author\nAbdellah Jouider",
      "metadata": {}
    }
  ]
}